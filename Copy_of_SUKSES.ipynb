{
  "cells": [
    {
      "cell_type": "code",
      "execution_count": null,
      "metadata": {
        "colab": {
          "base_uri": "https://localhost:8080/",
          "height": 55
        },
        "id": "ByGUnS_gQNvN",
        "outputId": "d1d2912d-0a23-413c-dee9-539a98fb9edd"
      },
      "outputs": [
        {
          "output_type": "display_data",
          "data": {
            "text/plain": [
              "<IPython.core.display.HTML object>"
            ],
            "text/html": [
              "\n",
              "     <input type=\"file\" id=\"files-53dc8790-d8a5-4e4c-ad9c-c3701b79eca6\" name=\"files[]\" multiple disabled\n",
              "        style=\"border:none\" />\n",
              "     <output id=\"result-53dc8790-d8a5-4e4c-ad9c-c3701b79eca6\">\n",
              "      Upload widget is only available when the cell has been executed in the\n",
              "      current browser session. Please rerun this cell to enable.\n",
              "      </output>\n",
              "      <script>// Copyright 2017 Google LLC\n",
              "//\n",
              "// Licensed under the Apache License, Version 2.0 (the \"License\");\n",
              "// you may not use this file except in compliance with the License.\n",
              "// You may obtain a copy of the License at\n",
              "//\n",
              "//      http://www.apache.org/licenses/LICENSE-2.0\n",
              "//\n",
              "// Unless required by applicable law or agreed to in writing, software\n",
              "// distributed under the License is distributed on an \"AS IS\" BASIS,\n",
              "// WITHOUT WARRANTIES OR CONDITIONS OF ANY KIND, either express or implied.\n",
              "// See the License for the specific language governing permissions and\n",
              "// limitations under the License.\n",
              "\n",
              "/**\n",
              " * @fileoverview Helpers for google.colab Python module.\n",
              " */\n",
              "(function(scope) {\n",
              "function span(text, styleAttributes = {}) {\n",
              "  const element = document.createElement('span');\n",
              "  element.textContent = text;\n",
              "  for (const key of Object.keys(styleAttributes)) {\n",
              "    element.style[key] = styleAttributes[key];\n",
              "  }\n",
              "  return element;\n",
              "}\n",
              "\n",
              "// Max number of bytes which will be uploaded at a time.\n",
              "const MAX_PAYLOAD_SIZE = 100 * 1024;\n",
              "\n",
              "function _uploadFiles(inputId, outputId) {\n",
              "  const steps = uploadFilesStep(inputId, outputId);\n",
              "  const outputElement = document.getElementById(outputId);\n",
              "  // Cache steps on the outputElement to make it available for the next call\n",
              "  // to uploadFilesContinue from Python.\n",
              "  outputElement.steps = steps;\n",
              "\n",
              "  return _uploadFilesContinue(outputId);\n",
              "}\n",
              "\n",
              "// This is roughly an async generator (not supported in the browser yet),\n",
              "// where there are multiple asynchronous steps and the Python side is going\n",
              "// to poll for completion of each step.\n",
              "// This uses a Promise to block the python side on completion of each step,\n",
              "// then passes the result of the previous step as the input to the next step.\n",
              "function _uploadFilesContinue(outputId) {\n",
              "  const outputElement = document.getElementById(outputId);\n",
              "  const steps = outputElement.steps;\n",
              "\n",
              "  const next = steps.next(outputElement.lastPromiseValue);\n",
              "  return Promise.resolve(next.value.promise).then((value) => {\n",
              "    // Cache the last promise value to make it available to the next\n",
              "    // step of the generator.\n",
              "    outputElement.lastPromiseValue = value;\n",
              "    return next.value.response;\n",
              "  });\n",
              "}\n",
              "\n",
              "/**\n",
              " * Generator function which is called between each async step of the upload\n",
              " * process.\n",
              " * @param {string} inputId Element ID of the input file picker element.\n",
              " * @param {string} outputId Element ID of the output display.\n",
              " * @return {!Iterable<!Object>} Iterable of next steps.\n",
              " */\n",
              "function* uploadFilesStep(inputId, outputId) {\n",
              "  const inputElement = document.getElementById(inputId);\n",
              "  inputElement.disabled = false;\n",
              "\n",
              "  const outputElement = document.getElementById(outputId);\n",
              "  outputElement.innerHTML = '';\n",
              "\n",
              "  const pickedPromise = new Promise((resolve) => {\n",
              "    inputElement.addEventListener('change', (e) => {\n",
              "      resolve(e.target.files);\n",
              "    });\n",
              "  });\n",
              "\n",
              "  const cancel = document.createElement('button');\n",
              "  inputElement.parentElement.appendChild(cancel);\n",
              "  cancel.textContent = 'Cancel upload';\n",
              "  const cancelPromise = new Promise((resolve) => {\n",
              "    cancel.onclick = () => {\n",
              "      resolve(null);\n",
              "    };\n",
              "  });\n",
              "\n",
              "  // Wait for the user to pick the files.\n",
              "  const files = yield {\n",
              "    promise: Promise.race([pickedPromise, cancelPromise]),\n",
              "    response: {\n",
              "      action: 'starting',\n",
              "    }\n",
              "  };\n",
              "\n",
              "  cancel.remove();\n",
              "\n",
              "  // Disable the input element since further picks are not allowed.\n",
              "  inputElement.disabled = true;\n",
              "\n",
              "  if (!files) {\n",
              "    return {\n",
              "      response: {\n",
              "        action: 'complete',\n",
              "      }\n",
              "    };\n",
              "  }\n",
              "\n",
              "  for (const file of files) {\n",
              "    const li = document.createElement('li');\n",
              "    li.append(span(file.name, {fontWeight: 'bold'}));\n",
              "    li.append(span(\n",
              "        `(${file.type || 'n/a'}) - ${file.size} bytes, ` +\n",
              "        `last modified: ${\n",
              "            file.lastModifiedDate ? file.lastModifiedDate.toLocaleDateString() :\n",
              "                                    'n/a'} - `));\n",
              "    const percent = span('0% done');\n",
              "    li.appendChild(percent);\n",
              "\n",
              "    outputElement.appendChild(li);\n",
              "\n",
              "    const fileDataPromise = new Promise((resolve) => {\n",
              "      const reader = new FileReader();\n",
              "      reader.onload = (e) => {\n",
              "        resolve(e.target.result);\n",
              "      };\n",
              "      reader.readAsArrayBuffer(file);\n",
              "    });\n",
              "    // Wait for the data to be ready.\n",
              "    let fileData = yield {\n",
              "      promise: fileDataPromise,\n",
              "      response: {\n",
              "        action: 'continue',\n",
              "      }\n",
              "    };\n",
              "\n",
              "    // Use a chunked sending to avoid message size limits. See b/62115660.\n",
              "    let position = 0;\n",
              "    do {\n",
              "      const length = Math.min(fileData.byteLength - position, MAX_PAYLOAD_SIZE);\n",
              "      const chunk = new Uint8Array(fileData, position, length);\n",
              "      position += length;\n",
              "\n",
              "      const base64 = btoa(String.fromCharCode.apply(null, chunk));\n",
              "      yield {\n",
              "        response: {\n",
              "          action: 'append',\n",
              "          file: file.name,\n",
              "          data: base64,\n",
              "        },\n",
              "      };\n",
              "\n",
              "      let percentDone = fileData.byteLength === 0 ?\n",
              "          100 :\n",
              "          Math.round((position / fileData.byteLength) * 100);\n",
              "      percent.textContent = `${percentDone}% done`;\n",
              "\n",
              "    } while (position < fileData.byteLength);\n",
              "  }\n",
              "\n",
              "  // All done.\n",
              "  yield {\n",
              "    response: {\n",
              "      action: 'complete',\n",
              "    }\n",
              "  };\n",
              "}\n",
              "\n",
              "scope.google = scope.google || {};\n",
              "scope.google.colab = scope.google.colab || {};\n",
              "scope.google.colab._files = {\n",
              "  _uploadFiles,\n",
              "  _uploadFilesContinue,\n",
              "};\n",
              "})(self);\n",
              "</script> "
            ]
          },
          "metadata": {}
        }
      ],
      "source": [
        "from google.colab import files\n",
        "uploaded = files.upload()  # Pilih file ZIP\n"
      ]
    },
    {
      "cell_type": "code",
      "execution_count": null,
      "metadata": {
        "id": "F4yiWCMtCadv"
      },
      "outputs": [],
      "source": [
        "import zipfile\n",
        "import os\n",
        "\n",
        "# Ganti \"gppeval-master.zip\" dengan nama file ZIP yang sesuai\n",
        "file_name = \"gppeval-master.zip\"\n",
        "\n",
        "# Pastikan file ZIP ada di direktori saat ini sebelum melanjutkan\n",
        "if os.path.exists(file_name):\n",
        "    with zipfile.ZipFile(file_name, 'r') as zip_ref:\n",
        "        # Ekstrak semua file ke direktori \"/content\"\n",
        "        zip_ref.extractall(\"/content\")  # Ganti path tujuan jika diperlukan\n",
        "        print(f\"File berhasil diekstrak ke '/content'\")\n",
        "else:\n",
        "    print(f\"File '{file_name}' tidak ditemukan. Pastikan nama file sudah benar.\")\n"
      ]
    },
    {
      "cell_type": "code",
      "execution_count": null,
      "metadata": {
        "colab": {
          "base_uri": "https://localhost:8080/"
        },
        "id": "xBc8Gnb5csoz",
        "outputId": "f4f293b4-2c00-41eb-df8d-41dc115de215"
      },
      "outputs": [
        {
          "output_type": "stream",
          "name": "stdout",
          "text": [
            "Requirement already satisfied: scipy==1.9.3 in /usr/local/lib/python3.11/dist-packages (1.9.3)\n",
            "Requirement already satisfied: numpy<1.26.0,>=1.18.5 in /usr/local/lib/python3.11/dist-packages (from scipy==1.9.3) (1.25.2)\n"
          ]
        }
      ],
      "source": [
        "!pip install scipy==1.9.3\n"
      ]
    },
    {
      "cell_type": "code",
      "execution_count": null,
      "metadata": {
        "colab": {
          "base_uri": "https://localhost:8080/"
        },
        "id": "kWVhkq1S8Ck2",
        "outputId": "54db6b4a-839e-4bc7-bc56-86bd402b05f6"
      },
      "outputs": [
        {
          "output_type": "stream",
          "name": "stdout",
          "text": [
            "Requirement already satisfied: gppeval in /usr/local/lib/python3.11/dist-packages (2024.8.4.0.2.dev1)\n",
            "Requirement already satisfied: numpy in /usr/local/lib/python3.11/dist-packages (from gppeval) (1.25.2)\n",
            "Requirement already satisfied: scipy in /usr/local/lib/python3.11/dist-packages (from gppeval) (1.9.3)\n",
            "Requirement already satisfied: matplotlib in /usr/local/lib/python3.11/dist-packages (from gppeval) (3.10.0)\n",
            "Requirement already satisfied: mcerp in /usr/local/lib/python3.11/dist-packages (from gppeval) (0.12)\n",
            "Requirement already satisfied: beautifultable in /usr/local/lib/python3.11/dist-packages (from gppeval) (1.1.0)\n",
            "Requirement already satisfied: iapws in /usr/local/lib/python3.11/dist-packages (from gppeval) (1.5.4)\n",
            "Requirement already satisfied: wcwidth in /usr/local/lib/python3.11/dist-packages (from beautifultable->gppeval) (0.2.13)\n",
            "Requirement already satisfied: contourpy>=1.0.1 in /usr/local/lib/python3.11/dist-packages (from matplotlib->gppeval) (1.3.1)\n",
            "Requirement already satisfied: cycler>=0.10 in /usr/local/lib/python3.11/dist-packages (from matplotlib->gppeval) (0.12.1)\n",
            "Requirement already satisfied: fonttools>=4.22.0 in /usr/local/lib/python3.11/dist-packages (from matplotlib->gppeval) (4.55.7)\n",
            "Requirement already satisfied: kiwisolver>=1.3.1 in /usr/local/lib/python3.11/dist-packages (from matplotlib->gppeval) (1.4.8)\n",
            "Requirement already satisfied: packaging>=20.0 in /usr/local/lib/python3.11/dist-packages (from matplotlib->gppeval) (24.2)\n",
            "Requirement already satisfied: pillow>=8 in /usr/local/lib/python3.11/dist-packages (from matplotlib->gppeval) (11.1.0)\n",
            "Requirement already satisfied: pyparsing>=2.3.1 in /usr/local/lib/python3.11/dist-packages (from matplotlib->gppeval) (3.2.1)\n",
            "Requirement already satisfied: python-dateutil>=2.7 in /usr/local/lib/python3.11/dist-packages (from matplotlib->gppeval) (2.8.2)\n",
            "Requirement already satisfied: six>=1.5 in /usr/local/lib/python3.11/dist-packages (from python-dateutil>=2.7->matplotlib->gppeval) (1.17.0)\n"
          ]
        }
      ],
      "source": [
        "!pip install gppeval\n"
      ]
    },
    {
      "cell_type": "code",
      "execution_count": null,
      "metadata": {
        "colab": {
          "base_uri": "https://localhost:8080/"
        },
        "id": "wVZxvjizXvt4",
        "outputId": "af926491-b601-48be-994b-f5a2b71ebabf"
      },
      "outputs": [
        {
          "output_type": "stream",
          "name": "stdout",
          "text": [
            "Requirement already satisfied: matplotlib in /usr/local/lib/python3.11/dist-packages (3.10.0)\n",
            "Requirement already satisfied: contourpy>=1.0.1 in /usr/local/lib/python3.11/dist-packages (from matplotlib) (1.3.1)\n",
            "Requirement already satisfied: cycler>=0.10 in /usr/local/lib/python3.11/dist-packages (from matplotlib) (0.12.1)\n",
            "Requirement already satisfied: fonttools>=4.22.0 in /usr/local/lib/python3.11/dist-packages (from matplotlib) (4.55.7)\n",
            "Requirement already satisfied: kiwisolver>=1.3.1 in /usr/local/lib/python3.11/dist-packages (from matplotlib) (1.4.8)\n",
            "Requirement already satisfied: numpy>=1.23 in /usr/local/lib/python3.11/dist-packages (from matplotlib) (1.25.2)\n",
            "Requirement already satisfied: packaging>=20.0 in /usr/local/lib/python3.11/dist-packages (from matplotlib) (24.2)\n",
            "Requirement already satisfied: pillow>=8 in /usr/local/lib/python3.11/dist-packages (from matplotlib) (11.1.0)\n",
            "Requirement already satisfied: pyparsing>=2.3.1 in /usr/local/lib/python3.11/dist-packages (from matplotlib) (3.2.1)\n",
            "Requirement already satisfied: python-dateutil>=2.7 in /usr/local/lib/python3.11/dist-packages (from matplotlib) (2.8.2)\n",
            "Requirement already satisfied: six>=1.5 in /usr/local/lib/python3.11/dist-packages (from python-dateutil>=2.7->matplotlib) (1.17.0)\n"
          ]
        }
      ],
      "source": [
        "!pip install matplotlib"
      ]
    },
    {
      "cell_type": "code",
      "execution_count": null,
      "metadata": {
        "id": "YPhm_qbI7wCh"
      },
      "outputs": [],
      "source": [
        "# This is cell ipython-input-33-317c53300410\n",
        "import matplotlib.pyplot as plt\n",
        "\n",
        "import gppeval # Import the gppeval module here.\n",
        "\n",
        "\n",
        "tool = gppeval.Tools()\n",
        "sim = gppeval.MonteCarloSimulation()"
      ]
    },
    {
      "cell_type": "markdown",
      "metadata": {
        "id": "jqDyfycQ7wCq"
      },
      "source": [
        "# 1) data from file"
      ]
    },
    {
      "cell_type": "code",
      "execution_count": null,
      "metadata": {
        "id": "DAp-_MET7wC2"
      },
      "outputs": [],
      "source": [
        "import numpy as np\n",
        "import gppeval\n",
        "\n",
        "def custom_read_csv(file_path):\n",
        "  \"\"\"Reads the CSV file and creates a GeothermalPowerPlant object.\n",
        "  \"\"\"\n",
        "  # Assuming your CSV has columns: name, area, thickness, reservoir_temp\n",
        "  # Adjust the dtype and names based on your actual CSV structure\n",
        "  dtype = [('name', 'U50'), ('area', float), ('thickness', float), ('reservoir_temp', float)]\n",
        "  # The delimiter is changed to semicolon to accommodate potential different delimiters\n",
        "  data = np.genfromtxt(file_path, delimiter=';', comments='#', dtype=dtype, skip_header=1)\n",
        "  # You can try other delimiters like '\\t' for tab or ' ' for space\n",
        "\n",
        "  gpp = gppeval.GeothermalPowerPlant()\n",
        "  # Assuming the first row contains data for a single power plant\n",
        "  gpp.set_name(data['name'][0])\n",
        "  gpp.set_area(most_likely=data['area'][0])  # Adjust as needed for other parameters\n",
        "  gpp.set_thickness(most_likely=data['thickness'][0])\n",
        "  gpp.set_reservoir_temp(most_likely=data['reservoir_temp'][0])\n",
        "\n",
        "  return gpp\n",
        "\n",
        "\n",
        "# Usage:\n",
        "tool = gppeval.Tools()\n",
        "sim = gppeval.MonteCarloSimulation()\n",
        "nj = custom_read_csv(\"/content/reservoir_properties_list.csv\")"
      ]
    },
    {
      "cell_type": "code",
      "execution_count": null,
      "metadata": {
        "colab": {
          "base_uri": "https://localhost:8080/",
          "height": 384
        },
        "id": "OeIk42jN7wC5",
        "outputId": "1a1b38ff-9951-4781-ac90-29480d534a22"
      },
      "outputs": [
        {
          "output_type": "error",
          "ename": "AttributeError",
          "evalue": "'float' object has no attribute 'mean'",
          "traceback": [
            "\u001b[0;31m---------------------------------------------------------------------------\u001b[0m",
            "\u001b[0;31mAttributeError\u001b[0m                            Traceback (most recent call last)",
            "\u001b[0;32m<ipython-input-16-79e13d99de9c>\u001b[0m in \u001b[0;36m<cell line: 0>\u001b[0;34m()\u001b[0m\n\u001b[1;32m      1\u001b[0m \u001b[0msim\u001b[0m\u001b[0;34m.\u001b[0m\u001b[0mset_iterations\u001b[0m\u001b[0;34m(\u001b[0m\u001b[0;36m10000\u001b[0m\u001b[0;34m)\u001b[0m\u001b[0;34m\u001b[0m\u001b[0;34m\u001b[0m\u001b[0m\n\u001b[0;32m----> 2\u001b[0;31m \u001b[0mnj\u001b[0m \u001b[0;34m=\u001b[0m \u001b[0msim\u001b[0m\u001b[0;34m.\u001b[0m\u001b[0mcalc_energy_potential\u001b[0m\u001b[0;34m(\u001b[0m\u001b[0mnj\u001b[0m\u001b[0;34m,\u001b[0m \u001b[0mrtype\u001b[0m\u001b[0;34m=\u001b[0m\u001b[0;34m'pdf'\u001b[0m\u001b[0;34m)\u001b[0m \u001b[0;31m# Specify 'pdf' for the rtype argument\u001b[0m\u001b[0;34m\u001b[0m\u001b[0;34m\u001b[0m\u001b[0m\n\u001b[0m",
            "\u001b[0;32m/usr/local/lib/python3.11/dist-packages/gppeval/__init__.py\u001b[0m in \u001b[0;36mcalc_energy_potential\u001b[0;34m(self, gpp, rtype)\u001b[0m\n\u001b[1;32m   1151\u001b[0m             \u001b[0mp_base\u001b[0m \u001b[0;34m=\u001b[0m \u001b[0mgpp\u001b[0m\u001b[0;34m.\u001b[0m\u001b[0mpower_potential\u001b[0m\u001b[0;34m[\u001b[0m\u001b[0;34m'pdf'\u001b[0m\u001b[0;34m]\u001b[0m \u001b[0;34m<=\u001b[0m \u001b[0mgpp\u001b[0m\u001b[0;34m.\u001b[0m\u001b[0mpower_potential\u001b[0m\u001b[0;34m[\u001b[0m\u001b[0;34m'base'\u001b[0m\u001b[0;34m]\u001b[0m\u001b[0;34m\u001b[0m\u001b[0;34m\u001b[0m\u001b[0m\n\u001b[1;32m   1152\u001b[0m             \u001b[0mgpp\u001b[0m\u001b[0;34m.\u001b[0m\u001b[0mpower_potential\u001b[0m\u001b[0;34m[\u001b[0m\u001b[0;34m'statistics'\u001b[0m\u001b[0;34m]\u001b[0m\u001b[0;34m[\u001b[0m\u001b[0;34m'p_base'\u001b[0m\u001b[0;34m]\u001b[0m \u001b[0;34m=\u001b[0m \u001b[0;36m1.0\u001b[0m \u001b[0;34m-\u001b[0m \u001b[0mp_base\u001b[0m\u001b[0;34m\u001b[0m\u001b[0;34m\u001b[0m\u001b[0m\n\u001b[0;32m-> 1153\u001b[0;31m             \u001b[0mgpp\u001b[0m\u001b[0;34m.\u001b[0m\u001b[0mpower_potential\u001b[0m\u001b[0;34m[\u001b[0m\u001b[0;34m'statistics'\u001b[0m\u001b[0;34m]\u001b[0m\u001b[0;34m[\u001b[0m\u001b[0;34m'mean'\u001b[0m\u001b[0;34m]\u001b[0m \u001b[0;34m=\u001b[0m \u001b[0mgpp\u001b[0m\u001b[0;34m.\u001b[0m\u001b[0mpower_potential\u001b[0m\u001b[0;34m[\u001b[0m\u001b[0;34m'pdf'\u001b[0m\u001b[0;34m]\u001b[0m\u001b[0;34m.\u001b[0m\u001b[0mmean\u001b[0m\u001b[0;34m\u001b[0m\u001b[0;34m\u001b[0m\u001b[0m\n\u001b[0m\u001b[1;32m   1154\u001b[0m             \u001b[0mgpp\u001b[0m\u001b[0;34m.\u001b[0m\u001b[0mpower_potential\u001b[0m\u001b[0;34m[\u001b[0m\u001b[0;34m'statistics'\u001b[0m\u001b[0;34m]\u001b[0m\u001b[0;34m[\u001b[0m\u001b[0;34m'sd'\u001b[0m\u001b[0;34m]\u001b[0m \u001b[0;34m=\u001b[0m \u001b[0mgpp\u001b[0m\u001b[0;34m.\u001b[0m\u001b[0mpower_potential\u001b[0m\u001b[0;34m[\u001b[0m\u001b[0;34m'pdf'\u001b[0m\u001b[0;34m]\u001b[0m\u001b[0;34m.\u001b[0m\u001b[0mstd\u001b[0m\u001b[0;34m\u001b[0m\u001b[0;34m\u001b[0m\u001b[0m\n\u001b[1;32m   1155\u001b[0m             \u001b[0mgpp\u001b[0m\u001b[0;34m.\u001b[0m\u001b[0mpower_potential\u001b[0m\u001b[0;34m[\u001b[0m\u001b[0;34m'statistics'\u001b[0m\u001b[0;34m]\u001b[0m\u001b[0;34m[\u001b[0m\u001b[0;34m'skew'\u001b[0m\u001b[0;34m]\u001b[0m \u001b[0;34m=\u001b[0m \u001b[0mgpp\u001b[0m\u001b[0;34m.\u001b[0m\u001b[0mpower_potential\u001b[0m\u001b[0;34m[\u001b[0m\u001b[0;34m'pdf'\u001b[0m\u001b[0;34m]\u001b[0m\u001b[0;34m.\u001b[0m\u001b[0mskew\u001b[0m\u001b[0;34m\u001b[0m\u001b[0;34m\u001b[0m\u001b[0m\n",
            "\u001b[0;31mAttributeError\u001b[0m: 'float' object has no attribute 'mean'"
          ]
        }
      ],
      "source": [
        "sim.set_iterations(10000)\n",
        "nj = sim.calc_energy_potential(nj, rtype='pdf') # Specify 'pdf' for the rtype argument"
      ]
    },
    {
      "cell_type": "code",
      "execution_count": null,
      "metadata": {
        "id": "Uw33e4_17wC8"
      },
      "outputs": [],
      "source": [
        "tool.plot_pdf(nj, show=True)"
      ]
    },
    {
      "cell_type": "code",
      "execution_count": null,
      "metadata": {
        "id": "q3Cg_BN17wC-"
      },
      "outputs": [],
      "source": [
        "tool.plot_pdf(nj, type_graph='higher',show=True)"
      ]
    },
    {
      "cell_type": "code",
      "execution_count": null,
      "metadata": {
        "id": "SuoqMaPb7wDB"
      },
      "outputs": [],
      "source": [
        "tool.plot_pdf(nj, type_graph='linear',show=True)"
      ]
    },
    {
      "cell_type": "code",
      "execution_count": null,
      "metadata": {
        "id": "o2frIHmQ7wDD"
      },
      "outputs": [],
      "source": [
        "tool.print_results(nj)"
      ]
    },
    {
      "cell_type": "code",
      "execution_count": null,
      "metadata": {
        "id": "4nSaFhkd7wDF"
      },
      "outputs": [],
      "source": [
        "print (nj)"
      ]
    },
    {
      "cell_type": "markdown",
      "metadata": {
        "id": "MZNsa8Yv7wDH"
      },
      "source": [
        "# 2) data from notebook"
      ]
    },
    {
      "cell_type": "code",
      "execution_count": null,
      "metadata": {
        "id": "y_XZahx37wDI"
      },
      "outputs": [],
      "source": [
        "nj = gppeval.GeothermalPowerPlant()\n",
        "\n",
        "nj.set_name('Geothermal field, Country')\n",
        "nj.set_location(lat=14, lon=-88.73)\n",
        "nj.set_area(min=5, most_likely=6, max=7, mean=0.0, sd=0.0, pdf='T', doc=5)\n",
        "nj.set_thickness(min=450, most_likely=500, max=600, mean=0.0, sd=0.0, pdf='T')\n",
        "nj.set_reservoir_temp(min=130, most_likely=160, max=163, mean=0.0, sd=0.0, pdf='T')\n",
        "nj.set_abandon_temp(min=0.0, most_likely=80, max=0.0, mean=0.0, sd=0.0, pdf='C')\n",
        "nj.set_porosity(min=0.0, most_likely=0.06, max=0.0, mean=0.06, sd=0.02, pdf='L')\n",
        "nj.set_rock_specific_heat(min=0.85, most_likely=0.85, max=0.9, mean=0.0, sd=0.0, pdf='T')\n",
        "nj.set_fluid_specific_heat(min=0, most_likely=5.18, max=0, mean=0.0, sd=0.0, pdf='C')\n",
        "nj.set_rock_density(min=0, most_likely=2500, max=0, mean=0.0, sd=0.0, pdf='C')\n",
        "nj.set_fluid_density(min=0, most_likely=764.45, max=0, mean=0.0, sd=0.0, pdf='C')\n",
        "nj.set_recovery_factor(min=0.0, most_likely=0.23, max=0.0, mean=0.0, sd=0.0, pdf='C')\n",
        "nj.set_conversion_efficiency(min=0.1, most_likely=0.12, max=0.2, mean=0.0, sd=0.0, pdf='T')\n",
        "nj.set_plant_net_capacity_factor(min=0.9, most_likely=0.95, max=1.0, mean=0.0, sd=0.0, pdf='T')\n",
        "nj.set_lifespan(min=0, most_likely=20, max=0, mean=0.0, sd=0.0, pdf='C')"
      ]
    },
    {
      "cell_type": "code",
      "execution_count": null,
      "metadata": {
        "id": "VkbeH4XH7wDL"
      },
      "outputs": [],
      "source": [
        "sim.set_iterations(10000)\n",
        "nj = sim.calc_energy_potential(nj)"
      ]
    },
    {
      "cell_type": "code",
      "execution_count": null,
      "metadata": {
        "id": "aWPJjg8N7wDM"
      },
      "outputs": [],
      "source": [
        "tool.plot_pdf(nj, show=True)"
      ]
    },
    {
      "cell_type": "code",
      "execution_count": null,
      "metadata": {
        "id": "xSVNkj0O7wDO"
      },
      "outputs": [],
      "source": [
        "import copy\n",
        "nj_new = copy.deepcopy(nj)\n",
        "nj_new.set_lifespan(most_likely=30.0)\n",
        "nj_new = sim.calc_energy_potential(nj_new)"
      ]
    },
    {
      "cell_type": "code",
      "execution_count": null,
      "metadata": {
        "id": "Ptce0tk97wDQ"
      },
      "outputs": [],
      "source": [
        "tool.plot_pdf(nj_new, show=True)\n",
        "tool.print_results(nj_new)"
      ]
    },
    {
      "cell_type": "code",
      "execution_count": null,
      "metadata": {
        "id": "n-N7qbq97wDR"
      },
      "outputs": [],
      "source": []
    }
  ],
  "metadata": {
    "colab": {
      "provenance": []
    },
    "kernelspec": {
      "display_name": "Python 3 (ipykernel)",
      "language": "python",
      "name": "python3"
    },
    "language_info": {
      "codemirror_mode": {
        "name": "ipython",
        "version": 3
      },
      "file_extension": ".py",
      "mimetype": "text/x-python",
      "name": "python",
      "nbconvert_exporter": "python",
      "pygments_lexer": "ipython3",
      "version": "3.9.21"
    }
  },
  "nbformat": 4,
  "nbformat_minor": 0
}